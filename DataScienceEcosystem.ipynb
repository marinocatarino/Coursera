{
 "cells": [
  {
   "cell_type": "markdown",
   "id": "7fe6dfab-5a49-4cee-b4f4-0d2bcfa935a6",
   "metadata": {},
   "source": [
    "<h1>Data Science Tools and Ecosystem</h1>"
   ]
  },
  {
   "cell_type": "markdown",
   "id": "673e2806-2e18-4782-a52c-13d2ec3cbe78",
   "metadata": {},
   "source": [
    "In this notebook, Data Science Tools and Ecosystem are summarized. This file was create by Marino Catarino."
   ]
  },
  {
   "cell_type": "markdown",
   "id": "5cff981d-4840-4876-be53-266bc5bc9d69",
   "metadata": {},
   "source": [
    "Some of the popular languages that Data Scientists use are:\n",
    "1. python\n",
    "2. R\n",
    "3. SQL"
   ]
  },
  {
   "cell_type": "markdown",
   "id": "c272cce1-b877-4afe-8b76-b84330b392f0",
   "metadata": {},
   "source": [
    "Some of the commonly used libraries used by Data Scientists include:\n",
    " \n",
    " 1. Pandas\n",
    " 2. SciPy. \n",
    " 3. NumPy. \n",
    " 4. SeaBorn\n"
   ]
  },
  {
   "cell_type": "markdown",
   "id": "6381f50f-4dd9-4606-9d52-4130fd4d355a",
   "metadata": {
    "tags": []
   },
   "source": [
    "Data Science Tools\n",
    "<table border = 1><tr><td>Jupyter Notebook</td></tr><tr><td>RStudio</td></tr><tr><td>Apache Spark</td></tr></table>"
   ]
  },
  {
   "cell_type": "markdown",
   "id": "dd1825cc-99b3-4a77-a735-9bf576a4aa2b",
   "metadata": {},
   "source": [
    "<h3>Below are a few examples of evaluating arithmetic expressions in Python:</h3>\n"
   ]
  },
  {
   "cell_type": "code",
   "execution_count": 1,
   "id": "ee3006ce-8440-4e3a-86d8-ed4cd7fc7dd2",
   "metadata": {},
   "outputs": [
    {
     "name": "stdout",
     "output_type": "stream",
     "text": [
      "17\n",
      "True\n"
     ]
    }
   ],
   "source": [
    "#This a simple arithmetic expression to mutiply then add integers\n",
    "\n",
    "eval = (3*4)+5\n",
    "print(eval)\n",
    "print(eval==17)"
   ]
  },
  {
   "cell_type": "code",
   "execution_count": 2,
   "id": "e3d1536a-a523-4889-bf41-22b569f1a31d",
   "metadata": {},
   "outputs": [
    {
     "name": "stdout",
     "output_type": "stream",
     "text": [
      "3.3333333333333335\n"
     ]
    }
   ],
   "source": [
    "# This will convert 200 minutes to hours by diving by 60\n",
    "print(200 / 60)"
   ]
  },
  {
   "cell_type": "markdown",
   "id": "a766b8d2-dd1d-42c9-b42d-1ca24bdee249",
   "metadata": {},
   "source": [
    "Objectives:\n",
    "    \n",
    "List popular languages for Data Science.\n",
    "- Python \n",
    "- R\n",
    "- SQL"
   ]
  },
  {
   "cell_type": "markdown",
   "id": "a0e51175-4fff-4b9a-abd4-83a82bda1735",
   "metadata": {},
   "source": [
    "<h2>Author </h2>\n",
    "name: Marino Hilario Catarino"
   ]
  }
 ],
 "metadata": {
  "kernelspec": {
   "display_name": "Python",
   "language": "python",
   "name": "conda-env-python-py"
  },
  "language_info": {
   "codemirror_mode": {
    "name": "ipython",
    "version": 3
   },
   "file_extension": ".py",
   "mimetype": "text/x-python",
   "name": "python",
   "nbconvert_exporter": "python",
   "pygments_lexer": "ipython3",
   "version": "3.7.12"
  }
 },
 "nbformat": 4,
 "nbformat_minor": 5
}
